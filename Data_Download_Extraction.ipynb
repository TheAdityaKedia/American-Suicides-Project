{
 "cells": [
  {
   "cell_type": "markdown",
   "metadata": {},
   "source": [
    "# Getting The Data\n",
    "\n",
    "The on (almost) all mortalities in the US for nay given year are made available by the CDC here: https://www.cdc.gov/nchs/data_access/vitalstatsonline.htm\n",
    "\n",
    "The layout of the record is described here: https://www.cdc.gov/nchs/data/dvs/Multiple_Cause_Record_Layout_2016.pdf"
   ]
  },
  {
   "cell_type": "code",
   "execution_count": 14,
   "metadata": {},
   "outputs": [],
   "source": [
    "from urllib import request\n",
    "import zipfile\n",
    "import os\n",
    "import sys\n",
    "\n",
    "cwd = os.getcwd()\n",
    "years = list(range(2012, 2017))\n",
    "\n",
    "base_url = \"ftp://ftp.cdc.gov/pub/Health_Statistics/NCHS/Datasets/DVS/mortality/\"\n",
    "local_filenames = {}"
   ]
  },
  {
   "cell_type": "markdown",
   "metadata": {},
   "source": [
    "### Download zip files from CDC"
   ]
  },
  {
   "cell_type": "code",
   "execution_count": 15,
   "metadata": {
    "collapsed": true
   },
   "outputs": [],
   "source": [
    "#### WARNING!!! This will download over 500MB of data into the current working directory ####\n",
    "\n",
    "for year in years:\n",
    "    zip_url = base_url + \"mort%dus.zip\" % year\n",
    "    local_filenames[year] = zip_url.split(\"/\")[-1]\n",
    "    request.urlretrieve(zip_url, local_filenames[year])"
   ]
  },
  {
   "cell_type": "markdown",
   "metadata": {},
   "source": [
    "### Extracting from the zip files"
   ]
  },
  {
   "cell_type": "code",
   "execution_count": 18,
   "metadata": {
    "collapsed": true
   },
   "outputs": [],
   "source": [
    "#### WARNING!!! This will extract over 5 GB of data into the current working directory ####\n",
    "\n",
    "for year in years:\n",
    "    with zipfile.ZipFile(local_filenames[year]) as f:\n",
    "        f.extractall(cwd+\"\\\\data\")"
   ]
  },
  {
   "cell_type": "code",
   "execution_count": 26,
   "metadata": {},
   "outputs": [
    {
     "name": "stdout",
     "output_type": "stream",
     "text": [
      "{2012: 'VS12MORT.DUSMCPUB', 2013: 'VS13MORT.DUSMCPUB', 2014: 'VS14MORT.DUSMCPUB', 2015: 'VS15MORT.DUSMCPUB', 2016: 'VS16MORT.DUSMCPUB'}\n"
     ]
    }
   ],
   "source": [
    "data_file_names = []\n",
    "for _1, _2, files  in os.walk(cwd+\"\\\\data\"):\n",
    "    data_file_names = files\n",
    "data_file_names = {year:file for year, file in zip(years, data_file_names)}"
   ]
  },
  {
   "cell_type": "code",
   "execution_count": null,
   "metadata": {
    "collapsed": true
   },
   "outputs": [],
   "source": []
  }
 ],
 "metadata": {
  "kernelspec": {
   "display_name": "Python 3",
   "language": "python",
   "name": "python3"
  },
  "language_info": {
   "codemirror_mode": {
    "name": "ipython",
    "version": 3
   },
   "file_extension": ".py",
   "mimetype": "text/x-python",
   "name": "python",
   "nbconvert_exporter": "python",
   "pygments_lexer": "ipython3",
   "version": "3.6.1"
  }
 },
 "nbformat": 4,
 "nbformat_minor": 2
}
