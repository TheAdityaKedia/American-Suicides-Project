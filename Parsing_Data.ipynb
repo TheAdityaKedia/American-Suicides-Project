{
 "cells": [
  {
   "cell_type": "markdown",
   "metadata": {},
   "source": [
    "## Parsing the data\n",
    "\n",
    "In the \"Data_Download_Extraction.ipynb' We downloaded the multiple causes of death data files (2012-2016) form the CDC and unzipped them into the \"data\" directory under the current working directory.\n",
    "\n",
    "Here we will try to parse the data from the extracted files into one giant CSV based on this document: https://www.cdc.gov/nchs/data/dvs/Multiple_Cause_Record_Layout_2016.pdf"
   ]
  },
  {
   "cell_type": "code",
   "execution_count": 1,
   "metadata": {
    "collapsed": true
   },
   "outputs": [],
   "source": [
    "import os\n",
    "\n",
    "cwd = os.getcwd()\n",
    "years = list(range(2012, 2017))\n",
    "data_file_names = []\n",
    "for _1, _2, files  in os.walk(cwd+\"\\\\data\"):\n",
    "    data_file_names = files\n",
    "data_file_names = {year:file for year, file in zip(years, data_file_names)}"
   ]
  },
  {
   "cell_type": "code",
   "execution_count": 28,
   "metadata": {
    "collapsed": true
   },
   "outputs": [],
   "source": [
    "#desired fields in the data\n",
    "\n",
    "fields = [\"year\", \"month\", \"age\", \"sex\", \"race\", \"cause\", \"place\", \"education\"]"
   ]
  },
  {
   "cell_type": "code",
   "execution_count": 27,
   "metadata": {
    "collapsed": true
   },
   "outputs": [],
   "source": [
    "Manner = {1: \"Accident\",\n",
    "2: \"Suicide\",\n",
    "3: \"Homicide\",\n",
    "4: \"Pending investigation\",\n",
    "5: \"Could not determine\",\n",
    "6: \"Self-Inflicted\",\n",
    "7: \"Natural\",} \n",
    "\n",
    "ICD_10_Suicide_Range = [\"X\"+str(num) for num in range(60,85)]\n",
    "\n",
    "suicide_cause_dict = {}\n",
    "\n",
    "for item in ICD_10_Suicide_Range:\n",
    "    num = int(item[1:])\n",
    "    cause = \"\"\n",
    "    if num in range(60, 70):\n",
    "        cause =  \"poisoning\"\n",
    "    elif num is 70:\n",
    "        cause = \"hanging/suffocation\"\n",
    "    elif num is 71:\n",
    "        cause = \"drowning\"\n",
    "    elif num in range(72,75):\n",
    "        cause = \"gun\"\n",
    "    elif num is 75:\n",
    "        cause = \"explosive\"\n",
    "    elif num in [76, 77]:\n",
    "        cause = \"burning/burns\"\n",
    "    elif num is 78:\n",
    "        cause = \"sharp object\"\n",
    "    elif num is 79:\n",
    "        cause = \"blunt object\"\n",
    "    elif num is 80:\n",
    "        cause = \"jumping\"\n",
    "    elif num is 81:\n",
    "        cause = \"moving object\"\n",
    "    elif num is 82:\n",
    "        cause = \"crashing vehicle\"\n",
    "    else:\n",
    "        cause = \"other\"\n",
    "    suicide_cause_dict[item] = cause"
   ]
  },
  {
   "cell_type": "markdown",
   "metadata": {},
   "source": [
    "Let us first extract every death marked as a suicied into a list of strings\n",
    "ICD 10 codes for suicides are found here (X60 - X84):https://en.wikipedia.org/wiki/ICD-10_Chapter_XX:_External_causes_of_morbidity_and_mortality\n",
    "\n",
    "the manner field may be blank, and the cause of death may not be reported as an ICD code. But hopefully using both, we will arrive at a resonable tally of all sucides in the US in the five year period of 2012 to 2016"
   ]
  },
  {
   "cell_type": "code",
   "execution_count": 24,
   "metadata": {
    "collapsed": true
   },
   "outputs": [],
   "source": [
    "suicide_deaths = []\n",
    "\n",
    "for file in data_file_names.values():\n",
    "    \n",
    "    with open(cwd+\"\\\\data\\\\\"+file) as f:\n",
    "        for line in f:\n",
    "            \n",
    "            manner = line[106].strip()\n",
    "            ICD10 = line[145:149].strip()\n",
    "            \n",
    "            if manner and int(manner) in [2, 6]:\n",
    "                suicide_deaths.append(line)\n",
    "                \n",
    "            elif ICD10 and ICD10 in ICD_10_Suicide_Range:\n",
    "                suicide_deaths.append(line)\n",
    "                "
   ]
  },
  {
   "cell_type": "code",
   "execution_count": 26,
   "metadata": {},
   "outputs": [
    {
     "data": {
      "text/plain": [
       "215211"
      ]
     },
     "execution_count": 26,
     "metadata": {},
     "output_type": "execute_result"
    }
   ],
   "source": [
    "len(suicide_deaths)"
   ]
  },
  {
   "cell_type": "markdown",
   "metadata": {},
   "source": [
    "**215211** sucicides in five years! That is over a 117 suicids per day."
   ]
  },
  {
   "cell_type": "markdown",
   "metadata": {},
   "source": [
    "We will now process each line in the list to add it to a pandas data frame with the fields specified earlier"
   ]
  },
  {
   "cell_type": "code",
   "execution_count": 29,
   "metadata": {
    "collapsed": true
   },
   "outputs": [],
   "source": [
    "import pandas as pd\n",
    "\n",
    "suicides_df = pd.DataFrame(columns = fields)"
   ]
  },
  {
   "cell_type": "code",
   "execution_count": null,
   "metadata": {
    "collapsed": true
   },
   "outputs": [],
   "source": [
    "def process_line(line):\n",
    "    year = line[101:105]\n",
    "    month = line[]\n",
    "    "
   ]
  }
 ],
 "metadata": {
  "kernelspec": {
   "display_name": "Python 3",
   "language": "python",
   "name": "python3"
  },
  "language_info": {
   "codemirror_mode": {
    "name": "ipython",
    "version": 3
   },
   "file_extension": ".py",
   "mimetype": "text/x-python",
   "name": "python",
   "nbconvert_exporter": "python",
   "pygments_lexer": "ipython3",
   "version": "3.6.1"
  }
 },
 "nbformat": 4,
 "nbformat_minor": 2
}
